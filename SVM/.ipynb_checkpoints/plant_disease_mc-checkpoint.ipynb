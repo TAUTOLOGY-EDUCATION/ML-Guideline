{
 "cells": [
  {
   "cell_type": "markdown",
   "id": "6f555b47",
   "metadata": {},
   "source": [
    "# 1. Import Libraries"
   ]
  },
  {
   "cell_type": "code",
   "execution_count": 1,
   "id": "0ac4d966",
   "metadata": {},
   "outputs": [],
   "source": [
    "# !pip install opencv-python"
   ]
  },
  {
   "cell_type": "code",
   "execution_count": 2,
   "id": "faa7fa2c",
   "metadata": {},
   "outputs": [],
   "source": [
    "import numpy as np\n",
    "import pandas as pd\n",
    "import matplotlib.pyplot as plt\n",
    "\n",
    "from glob import glob\n",
    "from PIL import Image\n",
    "import cv2\n",
    "from tqdm.auto import tqdm\n",
    "from sklearn.model_selection import train_test_split\n",
    "from sklearn.preprocessing import (\n",
    "    OrdinalEncoder, \n",
    "    OneHotEncoder, \n",
    "    StandardScaler, \n",
    "    MinMaxScaler\n",
    ")\n",
    "from sklearn.svm import SVC\n",
    "from sklearn.metrics import plot_confusion_matrix, classification_report\n",
    "\n",
    "import warnings\n",
    "warnings.filterwarnings('ignore')\n",
    "\n",
    "np.random.seed(12345)"
   ]
  },
  {
   "cell_type": "markdown",
   "id": "a6cd7e08",
   "metadata": {},
   "source": [
    "# 2. Read Data"
   ]
  },
  {
   "cell_type": "code",
   "execution_count": 3,
   "id": "d0ccccc3",
   "metadata": {},
   "outputs": [],
   "source": [
    "classes = ['healthy', 'powdery', 'rust']"
   ]
  },
  {
   "cell_type": "code",
   "execution_count": 4,
   "id": "c8d0d00a",
   "metadata": {},
   "outputs": [
    {
     "data": {
      "application/vnd.jupyter.widget-view+json": {
       "model_id": "61bdf06f1c5249ee917bf6d5b7fb0cdc",
       "version_major": 2,
       "version_minor": 0
      },
      "text/plain": [
       "  0%|          | 0/3 [00:00<?, ?it/s]"
      ]
     },
     "metadata": {},
     "output_type": "display_data"
    },
    {
     "data": {
      "application/vnd.jupyter.widget-view+json": {
       "model_id": "e327050b85154ff29bf92c61080712c2",
       "version_major": 2,
       "version_minor": 0
      },
      "text/plain": [
       "  0%|          | 0/528 [00:00<?, ?it/s]"
      ]
     },
     "metadata": {},
     "output_type": "display_data"
    },
    {
     "data": {
      "application/vnd.jupyter.widget-view+json": {
       "model_id": "412c1f5a7ff14692bc5458739b38e0e8",
       "version_major": 2,
       "version_minor": 0
      },
      "text/plain": [
       "  0%|          | 0/480 [00:00<?, ?it/s]"
      ]
     },
     "metadata": {},
     "output_type": "display_data"
    },
    {
     "data": {
      "application/vnd.jupyter.widget-view+json": {
       "model_id": "24e645e2ccaf4a268074b0306014c360",
       "version_major": 2,
       "version_minor": 0
      },
      "text/plain": [
       "  0%|          | 0/484 [00:00<?, ?it/s]"
      ]
     },
     "metadata": {},
     "output_type": "display_data"
    }
   ],
   "source": [
    "X = np.empty([0, 32*32*3])\n",
    "y = np.empty([0, 1])\n",
    "\n",
    "for _class in tqdm(classes):\n",
    "    img_path = glob('dataset/' + _class + '/*')\n",
    "    for path in tqdm(img_path):\n",
    "        img = Image.open(path)\n",
    "        img = img.resize([32, 32])\n",
    "        img = np.array(img)\n",
    "        if img.shape[2] == 4:\n",
    "            img = cv2.cvtColor(img, cv2.COLOR_BGRA2BGR)\n",
    "        img = img.reshape(1, -1)\n",
    "        X = np.vstack([X, img])\n",
    "        if _class == 'healthy':\n",
    "            y = np.vstack([y, 'healthy'])\n",
    "        else:\n",
    "            y = np.vstack([y, 'unhealthy'])"
   ]
  },
  {
   "cell_type": "markdown",
   "id": "3a504f65",
   "metadata": {},
   "source": [
    "# ### 3. Clean Data"
   ]
  },
  {
   "cell_type": "markdown",
   "id": "8e6989b2",
   "metadata": {},
   "source": [
    "# 4. Split Dataset into Training & Test Sets"
   ]
  },
  {
   "cell_type": "code",
   "execution_count": 5,
   "id": "d3a84240",
   "metadata": {},
   "outputs": [],
   "source": [
    "X_train, X_test, y_train, y_test = train_test_split(X, y, test_size=0.20, shuffle=True)"
   ]
  },
  {
   "cell_type": "markdown",
   "id": "7cdf805b",
   "metadata": {},
   "source": [
    "# ### 5. Data Preparation"
   ]
  },
  {
   "cell_type": "markdown",
   "id": "07f5ae63",
   "metadata": {},
   "source": [
    "## ### 5.1. Ordinal Encoding"
   ]
  },
  {
   "cell_type": "markdown",
   "id": "6cbb8fb5",
   "metadata": {},
   "source": [
    "## ### 5.2. One Hot Encoding"
   ]
  },
  {
   "cell_type": "markdown",
   "id": "6aeaeb0a",
   "metadata": {},
   "source": [
    "## 5.3. Feature Scaling"
   ]
  },
  {
   "cell_type": "markdown",
   "id": "6bd90e8d",
   "metadata": {},
   "source": [
    "### 5.3.1. Training Set"
   ]
  },
  {
   "cell_type": "code",
   "execution_count": 6,
   "id": "bd4efdd2",
   "metadata": {},
   "outputs": [],
   "source": [
    "scaler = MinMaxScaler()\n",
    "X_train_scaled = scaler.fit_transform(X_train)"
   ]
  },
  {
   "cell_type": "markdown",
   "id": "f370ec47",
   "metadata": {},
   "source": [
    "### 5.3.2. Test Set"
   ]
  },
  {
   "cell_type": "code",
   "execution_count": 7,
   "id": "72df8ec8",
   "metadata": {},
   "outputs": [],
   "source": [
    "X_test_scaled = scaler.transform(X_test)"
   ]
  },
  {
   "cell_type": "markdown",
   "id": "f7298f01",
   "metadata": {},
   "source": [
    "# 6. Model Creation"
   ]
  },
  {
   "cell_type": "markdown",
   "id": "02e695f1",
   "metadata": {},
   "source": [
    "## 6.1. Setting Parameters"
   ]
  },
  {
   "cell_type": "code",
   "execution_count": 8,
   "id": "230b06c5",
   "metadata": {},
   "outputs": [],
   "source": [
    "clf = SVC()"
   ]
  },
  {
   "cell_type": "markdown",
   "id": "fcd997d4",
   "metadata": {},
   "source": [
    "## 6.2. Train Model"
   ]
  },
  {
   "cell_type": "code",
   "execution_count": 9,
   "id": "a6a14837",
   "metadata": {},
   "outputs": [
    {
     "data": {
      "text/plain": [
       "SVC()"
      ]
     },
     "execution_count": 9,
     "metadata": {},
     "output_type": "execute_result"
    }
   ],
   "source": [
    "clf.fit(X_train_scaled, y_train)"
   ]
  },
  {
   "cell_type": "markdown",
   "id": "dfc8e323",
   "metadata": {},
   "source": [
    "## 6.3. Model's Weight & Bias"
   ]
  },
  {
   "cell_type": "code",
   "execution_count": 12,
   "id": "7a6de466",
   "metadata": {},
   "outputs": [
    {
     "data": {
      "text/plain": [
       "array([[-1.        , -0.00572654, -0.36381903, -0.02140239, -1.        ,\n",
       "        -1.        , -0.64271818, -1.        , -1.        , -0.12563731,\n",
       "        -0.04905938, -1.        , -0.36424928, -0.68818395, -1.        ,\n",
       "        -1.        , -0.47252939, -1.        , -0.4152354 , -0.58521712,\n",
       "        -0.68965641, -0.01197382, -1.        , -0.8272032 , -1.        ,\n",
       "        -0.59037523, -0.79238507, -0.79475982, -1.        , -0.3106107 ,\n",
       "        -1.        , -0.86798769, -1.        , -1.        , -0.97867064,\n",
       "        -0.36634136, -0.05741745, -1.        , -0.96493647, -1.        ,\n",
       "        -0.48730909, -1.        , -1.        , -0.76551493, -1.        ,\n",
       "        -1.        , -1.        , -1.        , -0.1853865 , -0.78002279,\n",
       "        -1.        , -1.        , -1.        , -1.        , -0.59020543,\n",
       "        -0.75201197, -0.69421924, -0.5451757 , -1.        , -1.        ,\n",
       "        -1.        , -1.        , -1.        , -0.77733464, -1.        ,\n",
       "        -1.        , -1.        , -1.        , -0.44607987, -1.        ,\n",
       "        -1.        , -1.        , -1.        , -1.        , -1.        ,\n",
       "        -0.90883058, -0.68429532, -0.95449823, -0.87130162, -1.        ,\n",
       "        -0.34108347, -1.        , -1.        , -1.        , -1.        ,\n",
       "        -0.62079508, -1.        , -1.        , -0.86206325, -0.83214251,\n",
       "        -0.4474059 , -0.88076334, -1.        , -1.        , -1.        ,\n",
       "        -0.38666373, -1.        , -0.92590479, -1.        , -0.37136188,\n",
       "        -1.        , -0.38238813, -0.28996088, -1.        , -1.        ,\n",
       "        -0.50288595, -1.        , -0.49649373, -0.26914974, -0.49657976,\n",
       "        -0.70397902, -1.        , -1.        , -0.50179661, -1.        ,\n",
       "        -0.76270363, -1.        , -1.        , -0.27117697, -1.        ,\n",
       "        -0.95374779, -1.        , -0.02965953, -1.        , -0.94254196,\n",
       "        -1.        , -1.        , -1.        , -1.        , -0.47282553,\n",
       "        -0.54051774, -0.26707739, -0.42086999, -1.        , -0.78355678,\n",
       "        -1.        , -1.        , -1.        , -1.        , -0.79457073,\n",
       "        -0.72147061, -1.        , -1.        , -0.58011155, -0.02116344,\n",
       "        -0.37012493, -0.00888831, -1.        , -0.39270819, -1.        ,\n",
       "        -1.        , -1.        , -1.        , -0.59244562, -0.13569955,\n",
       "        -1.        , -1.        , -1.        , -0.10190316, -1.        ,\n",
       "        -0.92627738, -0.4749256 , -0.99837113, -1.        , -0.99366991,\n",
       "        -0.71139288, -0.89989546, -1.        , -1.        , -0.18724755,\n",
       "        -1.        , -0.95716167, -1.        , -0.84971139, -0.8875769 ,\n",
       "        -1.        , -0.40161224, -1.        , -0.45904424, -0.55377536,\n",
       "        -1.        , -1.        , -1.        , -1.        , -0.71927406,\n",
       "        -1.        , -0.48771133, -1.        , -0.01859714, -1.        ,\n",
       "        -0.90653691, -0.57624411, -0.59593981, -0.30000474, -1.        ,\n",
       "        -0.42643573, -0.64932126, -1.        , -0.67081358, -0.81079949,\n",
       "        -0.77404348, -0.60140445, -0.07994203, -0.86635798, -1.        ,\n",
       "        -1.        , -1.        , -0.39409936, -0.69793513, -0.99461522,\n",
       "        -1.        , -1.        , -0.75127045, -0.97210497, -0.82942362,\n",
       "        -0.84749692, -1.        , -1.        , -1.        , -1.        ,\n",
       "        -1.        , -0.689171  , -1.        , -1.        , -0.35846128,\n",
       "        -1.        , -0.66509949, -1.        , -1.        , -1.        ,\n",
       "        -0.94119197, -1.        , -1.        , -0.57806165, -1.        ,\n",
       "        -1.        , -0.02305597, -0.35688359, -0.70771346, -0.14228802,\n",
       "        -0.31666279, -1.        , -1.        , -1.        , -0.88951692,\n",
       "        -0.9283685 , -0.51836484, -0.79377463, -1.        , -1.        ,\n",
       "        -1.        , -0.53984149, -1.        , -1.        , -1.        ,\n",
       "        -1.        , -0.7565737 , -0.92449063, -1.        , -1.        ,\n",
       "        -1.        , -0.93726895, -1.        , -1.        , -0.48014706,\n",
       "        -0.68424648, -1.        , -1.        , -1.        , -1.        ,\n",
       "        -0.87844664, -1.        , -0.31459947, -0.98575923, -0.38710961,\n",
       "        -0.67025226, -1.        , -1.        , -1.        , -1.        ,\n",
       "        -1.        , -0.46834873, -0.2434392 , -1.        , -0.67456619,\n",
       "        -0.28798987, -0.60657366, -0.83037157, -1.        , -0.41483972,\n",
       "        -0.82111134, -0.69645446, -1.        , -0.81087743, -0.30618921,\n",
       "        -0.57306312, -1.        , -0.67851857, -1.        , -0.05400365,\n",
       "        -0.7283186 , -1.        , -0.5972583 , -1.        , -0.10529763,\n",
       "        -1.        , -0.03390347, -0.90401174, -1.        , -0.9975521 ,\n",
       "        -1.        , -0.31810658, -1.        , -1.        , -0.50011854,\n",
       "        -1.        , -1.        , -1.        , -1.        , -1.        ,\n",
       "        -0.11307872, -0.35449696, -0.35081619, -1.        , -1.        ,\n",
       "        -0.61442609, -0.72273247, -0.51656784, -1.        , -0.25890211,\n",
       "        -0.94476484, -0.18181913, -0.8723522 ,  1.        ,  0.92085486,\n",
       "         0.95164763,  0.41838025,  1.        ,  0.09895096,  0.63211488,\n",
       "         0.88410558,  0.80892272,  1.        ,  0.82463826,  0.15035211,\n",
       "         1.        ,  0.94398079,  0.90990984,  0.12975734,  1.        ,\n",
       "         1.        ,  0.08543406,  1.        ,  1.        ,  1.        ,\n",
       "         1.        ,  0.54266977,  0.04502072,  1.        ,  1.        ,\n",
       "         0.05044285,  0.6114072 ,  0.31227897,  0.26633688,  1.        ,\n",
       "         1.        ,  0.09967222,  0.38839619,  1.        ,  1.        ,\n",
       "         1.        ,  0.60549229,  0.77290828,  0.72517668,  0.85829498,\n",
       "         0.95474466,  0.52806625,  0.24408903,  0.31589423,  1.        ,\n",
       "         0.76267667,  1.        ,  0.38850162,  0.22368604,  0.87430698,\n",
       "         0.12122118,  1.        ,  1.        ,  0.82745074,  1.        ,\n",
       "         0.95052244,  0.73145174,  0.6040155 ,  0.69800367,  0.90185226,\n",
       "         1.        ,  1.        ,  0.30527991,  1.        ,  1.        ,\n",
       "         0.41582476,  1.        ,  0.22513625,  0.23505093,  0.04222188,\n",
       "         1.        ,  0.00189765,  0.78460319,  1.        ,  1.        ,\n",
       "         1.        ,  1.        ,  1.        ,  0.48226551,  0.48523127,\n",
       "         1.        ,  1.        ,  1.        ,  0.20271528,  0.89739232,\n",
       "         0.70113949,  0.97115765,  1.        ,  1.        ,  0.37710941,\n",
       "         1.        ,  1.        ,  0.26881371,  1.        ,  1.        ,\n",
       "         1.        ,  1.        ,  0.30266685,  1.        ,  1.        ,\n",
       "         0.34409621,  0.12018964,  0.91140563,  0.68780001,  0.86408203,\n",
       "         0.45383632,  0.88885842,  0.52344397,  1.        ,  1.        ,\n",
       "         1.        ,  1.        ,  1.        ,  1.        ,  0.10992875,\n",
       "         0.00391274,  0.89585586,  0.57267918,  0.07199482,  0.52471184,\n",
       "         0.28959373,  0.65491696,  0.93431661,  1.        ,  0.80282061,\n",
       "         1.        ,  0.85072298,  1.        ,  1.        ,  1.        ,\n",
       "         0.2555826 ,  1.        ,  0.58843113,  1.        ,  0.67983092,\n",
       "         0.65085676,  1.        ,  1.        ,  1.        ,  0.97755646,\n",
       "         1.        ,  1.        ,  1.        ,  1.        ,  0.34569118,\n",
       "         1.        ,  1.        ,  0.23098105,  1.        ,  1.        ,\n",
       "         0.65221093,  1.        ,  0.09861459,  1.        ,  0.2982448 ,\n",
       "         0.94528325,  0.30825306,  0.90288812,  1.        ,  0.70892651,\n",
       "         1.        ,  0.01858324,  0.96309056,  1.        ,  1.        ,\n",
       "         0.66733803,  1.        ,  0.09884687,  0.06756075,  0.04361081,\n",
       "         0.04590916,  0.20842454,  0.3282954 ,  1.        ,  0.61012793,\n",
       "         1.        ,  1.        ,  0.15318977,  0.25134272,  0.75093862,\n",
       "         0.38736696,  1.        ,  0.27144766,  1.        ,  0.80034665,\n",
       "         0.30555224,  1.        ,  0.08358931,  1.        ,  0.4657738 ,\n",
       "         1.        ,  0.17338055,  0.30625368,  1.        ,  0.89624412,\n",
       "         1.        ,  0.10119657,  0.00554999,  1.        ,  0.90328315,\n",
       "         1.        ,  0.87560712,  1.        ,  1.        ,  1.        ,\n",
       "         1.        ,  1.        ,  0.838903  ,  0.14453516,  1.        ,\n",
       "         0.52204283,  0.00302676,  0.48486275,  0.83343325,  0.08360267,\n",
       "         0.14303444,  1.        ,  0.7287758 ,  0.73098071,  1.        ,\n",
       "         1.        ,  0.0808035 ,  0.44691818,  1.        ,  0.73224478,\n",
       "         1.        ,  1.        ,  1.        ,  1.        ,  1.        ,\n",
       "         1.        ,  1.        ,  1.        ,  1.        ,  1.        ,\n",
       "         0.2026169 ,  1.        ,  0.40694019,  1.        ,  0.05025863,\n",
       "         1.        ,  0.92191363,  0.0578209 ,  0.88983423,  0.54264632,\n",
       "         0.50817467,  1.        ,  1.        ,  0.89488537,  0.27259753,\n",
       "         0.11351554,  0.739704  ,  0.1620789 ,  0.02247078,  0.59557371,\n",
       "         1.        ,  1.        ,  1.        ,  1.        ,  0.76164751,\n",
       "         1.        ,  0.26770028,  0.21350235,  0.28175309,  0.4890434 ,\n",
       "         1.        ,  0.8525252 ,  0.19259694,  1.        ,  1.        ,\n",
       "         0.92455326,  0.02332974,  1.        ,  0.68922194,  0.46197154,\n",
       "         0.47462871,  0.07654104,  0.94324699,  0.98927799,  1.        ,\n",
       "         0.87921975,  1.        ,  0.76162105,  0.76140179,  1.        ,\n",
       "         0.73130117,  0.27648101,  0.00486647,  1.        ,  1.        ,\n",
       "         1.        ,  0.45784814,  0.43241774,  1.        ,  0.14732872,\n",
       "         0.05231585,  0.30943438,  0.02804576,  0.33230339,  1.        ,\n",
       "         0.82522251,  1.        ,  0.50965912,  1.        ,  1.        ,\n",
       "         1.        ,  0.06043522,  1.        ,  0.91950364,  1.        ,\n",
       "         1.        ,  0.50322181,  0.1614516 ,  1.        ,  0.69463975,\n",
       "         0.08198355,  0.48796673,  1.        ,  0.57584581,  1.        ,\n",
       "         1.        ,  0.71530519,  0.14717516,  0.01377701,  1.        ,\n",
       "         0.69434915,  0.98663954,  0.73873573,  0.25343123,  0.16929072,\n",
       "         0.08296058,  0.09714365,  0.50014292,  0.65121565,  0.20084909,\n",
       "         0.718971  ,  1.        ,  1.        ,  0.28743511,  1.        ,\n",
       "         0.90255014,  0.52279128,  0.1560447 ,  0.86041291,  0.82737983,\n",
       "         1.        ,  1.        ,  0.76871955,  0.18985094,  0.32857111,\n",
       "         1.        ,  0.0396926 ,  0.23700904,  0.22872935,  0.3384737 ,\n",
       "         0.19728911,  1.        ,  1.        ,  1.        ,  0.88128429,\n",
       "         0.45112446,  1.        ,  0.99565298,  1.        ,  0.42659965,\n",
       "         0.15239419,  0.02577764,  0.65941257,  1.        ,  0.74822447,\n",
       "         0.44355669,  1.        ,  1.        ,  1.        ]])"
      ]
     },
     "execution_count": 12,
     "metadata": {},
     "output_type": "execute_result"
    }
   ],
   "source": [
    "clf.dual_coef_"
   ]
  },
  {
   "cell_type": "code",
   "execution_count": 11,
   "id": "4a9fbc09",
   "metadata": {},
   "outputs": [
    {
     "data": {
      "text/plain": [
       "array([0.14438121])"
      ]
     },
     "execution_count": 11,
     "metadata": {},
     "output_type": "execute_result"
    }
   ],
   "source": [
    "clf.intercept_"
   ]
  },
  {
   "cell_type": "markdown",
   "id": "982f5065",
   "metadata": {},
   "source": [
    "# 7. Prediction"
   ]
  },
  {
   "cell_type": "markdown",
   "id": "3371e2e7",
   "metadata": {},
   "source": [
    "## 7.1. Training Set"
   ]
  },
  {
   "cell_type": "code",
   "execution_count": 13,
   "id": "1fcaad0d",
   "metadata": {},
   "outputs": [],
   "source": [
    "y_pred_train = clf.predict(X_train_scaled)"
   ]
  },
  {
   "cell_type": "markdown",
   "id": "95a112f5",
   "metadata": {},
   "source": [
    "## 7.2. Test Set"
   ]
  },
  {
   "cell_type": "code",
   "execution_count": 14,
   "id": "7158701f",
   "metadata": {},
   "outputs": [],
   "source": [
    "y_pred_test = clf.predict(X_test_scaled)"
   ]
  },
  {
   "cell_type": "markdown",
   "id": "72a16acb",
   "metadata": {},
   "source": [
    "# 8. Model Evaluation"
   ]
  },
  {
   "cell_type": "markdown",
   "id": "7f9d943a",
   "metadata": {},
   "source": [
    "## 8.1. Training Set"
   ]
  },
  {
   "cell_type": "markdown",
   "id": "55f96f40",
   "metadata": {},
   "source": [
    "### 8.1.1. Confusion Matrix"
   ]
  },
  {
   "cell_type": "code",
   "execution_count": 15,
   "id": "8eb5f70b",
   "metadata": {},
   "outputs": [
    {
     "data": {
      "text/plain": [
       "<sklearn.metrics._plot.confusion_matrix.ConfusionMatrixDisplay at 0x112fa2c40>"
      ]
     },
     "execution_count": 15,
     "metadata": {},
     "output_type": "execute_result"
    },
    {
     "data": {
      "image/png": "[encoded data removed]",
      "text/plain": [
       "<Figure size 432x288 with 2 Axes>"
      ]
     },
     "metadata": {
      "needs_background": "light"
     },
     "output_type": "display_data"
    }
   ],
   "source": [
    "plot_confusion_matrix(clf, X_train_scaled, y_train)"
   ]
  },
  {
   "cell_type": "markdown",
   "id": "6fb54b57",
   "metadata": {},
   "source": [
    "### 8.1.2. Scoring"
   ]
  },
  {
   "cell_type": "code",
   "execution_count": 16,
   "id": "527a7b37",
   "metadata": {},
   "outputs": [],
   "source": [
    "report = classification_report(y_train, y_pred_train, output_dict=True)"
   ]
  },
  {
   "cell_type": "code",
   "execution_count": 17,
   "id": "dfa3133a",
   "metadata": {},
   "outputs": [
    {
     "name": "stdout",
     "output_type": "stream",
     "text": [
      "accuracy = 0.9765297569153395\n"
     ]
    }
   ],
   "source": [
    "print('accuracy =', report['accuracy'])"
   ]
  },
  {
   "cell_type": "code",
   "execution_count": 18,
   "id": "f21755cc",
   "metadata": {},
   "outputs": [
    {
     "data": {
      "text/plain": [
       "{'precision': 0.9592326139088729,\n",
       " 'recall': 0.9732360097323601,\n",
       " 'f1-score': 0.9661835748792271,\n",
       " 'support': 411}"
      ]
     },
     "execution_count": 18,
     "metadata": {},
     "output_type": "execute_result"
    }
   ],
   "source": [
    "report['healthy']"
   ]
  },
  {
   "cell_type": "code",
   "execution_count": 19,
   "id": "5e9f9028",
   "metadata": {},
   "outputs": [
    {
     "data": {
      "text/plain": [
       "{'precision': 0.9858247422680413,\n",
       " 'recall': 0.9782608695652174,\n",
       " 'f1-score': 0.9820282413350451,\n",
       " 'support': 782}"
      ]
     },
     "execution_count": 19,
     "metadata": {},
     "output_type": "execute_result"
    }
   ],
   "source": [
    "report['unhealthy']"
   ]
  },
  {
   "cell_type": "markdown",
   "id": "9533f763",
   "metadata": {},
   "source": [
    "## 8.2. Test Set"
   ]
  },
  {
   "cell_type": "markdown",
   "id": "ef10b301",
   "metadata": {},
   "source": [
    "### 8.2.1. Confusion Matrix"
   ]
  },
  {
   "cell_type": "code",
   "execution_count": 20,
   "id": "aa27890a",
   "metadata": {},
   "outputs": [
    {
     "data": {
      "text/plain": [
       "<sklearn.metrics._plot.confusion_matrix.ConfusionMatrixDisplay at 0x12ad63ca0>"
      ]
     },
     "execution_count": 20,
     "metadata": {},
     "output_type": "execute_result"
    },
    {
     "data": {
      "image/png": "[encoded data removed]",
      "text/plain": [
       "<Figure size 432x288 with 2 Axes>"
      ]
     },
     "metadata": {
      "needs_background": "light"
     },
     "output_type": "display_data"
    }
   ],
   "source": [
    "plot_confusion_matrix(clf, X_test_scaled, y_test)"
   ]
  },
  {
   "cell_type": "markdown",
   "id": "cefece92",
   "metadata": {},
   "source": [
    "### 8.2.2. Scoring"
   ]
  },
  {
   "cell_type": "code",
   "execution_count": 21,
   "id": "9f72a11f",
   "metadata": {},
   "outputs": [],
   "source": [
    "report = classification_report(y_test, y_pred_test, output_dict=True)"
   ]
  },
  {
   "cell_type": "code",
   "execution_count": 22,
   "id": "d11d9541",
   "metadata": {},
   "outputs": [
    {
     "name": "stdout",
     "output_type": "stream",
     "text": [
      "accuracy = 0.9063545150501672\n"
     ]
    }
   ],
   "source": [
    "print('accuracy =', report['accuracy'])"
   ]
  },
  {
   "cell_type": "code",
   "execution_count": 23,
   "id": "ba315020",
   "metadata": {},
   "outputs": [
    {
     "data": {
      "text/plain": [
       "{'precision': 0.9009009009009009,\n",
       " 'recall': 0.8547008547008547,\n",
       " 'f1-score': 0.8771929824561403,\n",
       " 'support': 117}"
      ]
     },
     "execution_count": 23,
     "metadata": {},
     "output_type": "execute_result"
    }
   ],
   "source": [
    "report['healthy']"
   ]
  },
  {
   "cell_type": "code",
   "execution_count": 24,
   "id": "8b67807a",
   "metadata": {},
   "outputs": [
    {
     "data": {
      "text/plain": [
       "{'precision': 0.9095744680851063,\n",
       " 'recall': 0.9395604395604396,\n",
       " 'f1-score': 0.9243243243243242,\n",
       " 'support': 182}"
      ]
     },
     "execution_count": 24,
     "metadata": {},
     "output_type": "execute_result"
    }
   ],
   "source": [
    "report['unhealthy']"
   ]
  },
  {
   "cell_type": "markdown",
   "id": "6b1cb541",
   "metadata": {},
   "source": [
    "# 9. Save Model"
   ]
  },
  {
   "cell_type": "code",
   "execution_count": 25,
   "id": "0291e4e9",
   "metadata": {},
   "outputs": [],
   "source": [
    "import pickle"
   ]
  },
  {
   "cell_type": "code",
   "execution_count": 26,
   "id": "2bf44e70",
   "metadata": {},
   "outputs": [],
   "source": [
    "pickle.dump((clf, scaler), open('plant_disease_model.pickle', 'wb'))"
   ]
  },
  {
   "cell_type": "code",
   "execution_count": null,
   "id": "9028adee",
   "metadata": {},
   "outputs": [],
   "source": []
  }
 ],
 "metadata": {
  "kernelspec": {
   "display_name": "Python 3",
   "language": "python",
   "name": "python3"
  },
  "language_info": {
   "codemirror_mode": {
    "name": "ipython",
    "version": 3
   },
   "file_extension": ".py",
   "mimetype": "text/x-python",
   "name": "python",
   "nbconvert_exporter": "python",
   "pygments_lexer": "ipython3",
   "version": "3.8.8"
  }
 },
 "nbformat": 4,
 "nbformat_minor": 5
}
