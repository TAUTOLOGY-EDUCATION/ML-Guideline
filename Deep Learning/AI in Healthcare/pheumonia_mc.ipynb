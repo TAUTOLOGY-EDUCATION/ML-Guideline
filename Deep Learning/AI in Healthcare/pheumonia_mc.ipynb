{
 "cells": [
  {
   "cell_type": "markdown",
   "id": "6f555b47",
   "metadata": {},
   "source": [
    "# 1. Import Libraries"
   ]
  },
  {
   "cell_type": "code",
   "execution_count": 1,
   "id": "0ac4d966",
   "metadata": {},
   "outputs": [],
   "source": [
    "# !pip install opencv-python"
   ]
  },
  {
   "cell_type": "code",
   "execution_count": 2,
   "id": "faa7fa2c",
   "metadata": {},
   "outputs": [],
   "source": [
    "import numpy as np\n",
    "import pandas as pd\n",
    "import matplotlib.pyplot as plt\n",
    "\n",
    "from glob import glob\n",
    "from PIL import Image\n",
    "import cv2\n",
    "from tqdm.auto import tqdm\n",
    "from sklearn.model_selection import train_test_split\n",
    "from sklearn.preprocessing import (\n",
    "    OrdinalEncoder, \n",
    "    OneHotEncoder, \n",
    "    StandardScaler, \n",
    "    MinMaxScaler\n",
    ")\n",
    "from sklearn.neural_network import MLPClassifier\n",
    "from sklearn.metrics import plot_confusion_matrix, classification_report\n",
    "\n",
    "import warnings\n",
    "warnings.filterwarnings('ignore')\n",
    "\n",
    "np.random.seed(12345)"
   ]
  },
  {
   "cell_type": "markdown",
   "id": "a6cd7e08",
   "metadata": {},
   "source": [
    "# 2. Read Data"
   ]
  },
  {
   "cell_type": "code",
   "execution_count": 3,
   "id": "d0ccccc3",
   "metadata": {},
   "outputs": [],
   "source": [
    "classes = ['Normal', 'Pheumonia']"
   ]
  },
  {
   "cell_type": "code",
   "execution_count": 4,
   "id": "1c35040c",
   "metadata": {},
   "outputs": [
    {
     "data": {
      "application/vnd.jupyter.widget-view+json": {
       "model_id": "0478f8374f904aa1a925a252b758fe4d",
       "version_major": 2,
       "version_minor": 0
      },
      "text/plain": [
       "  0%|          | 0/2 [00:00<?, ?it/s]"
      ]
     },
     "metadata": {},
     "output_type": "display_data"
    },
    {
     "data": {
      "application/vnd.jupyter.widget-view+json": {
       "model_id": "86584e52adf4451198f5ca6c010972c8",
       "version_major": 2,
       "version_minor": 0
      },
      "text/plain": [
       "  0%|          | 0/1583 [00:00<?, ?it/s]"
      ]
     },
     "metadata": {},
     "output_type": "display_data"
    },
    {
     "data": {
      "application/vnd.jupyter.widget-view+json": {
       "model_id": "71c0eff9e65d44cc956e4a7adb13934f",
       "version_major": 2,
       "version_minor": 0
      },
      "text/plain": [
       "  0%|          | 0/4265 [00:00<?, ?it/s]"
      ]
     },
     "metadata": {},
     "output_type": "display_data"
    }
   ],
   "source": [
    "X = np.empty([0, 64*64])\n",
    "y = np.empty([0, 1])\n",
    "\n",
    "for _class in tqdm(classes):\n",
    "    img_path = glob('dataset/' + _class + '/*')\n",
    "    for path in tqdm(img_path):\n",
    "        img = Image.open(path)\n",
    "        img = img.convert('1') # convert image to black and white\n",
    "        img = img.resize([64, 64])\n",
    "        img = np.array(img)\n",
    "        img = img.reshape(1, -1)\n",
    "        X = np.vstack([X, img])\n",
    "        y = np.vstack([y, _class])"
   ]
  },
  {
   "cell_type": "markdown",
   "id": "3a504f65",
   "metadata": {},
   "source": [
    "# ### 3. Clean Data"
   ]
  },
  {
   "cell_type": "markdown",
   "id": "8e6989b2",
   "metadata": {},
   "source": [
    "# 4. Split Dataset into Training & Test Sets"
   ]
  },
  {
   "cell_type": "code",
   "execution_count": 5,
   "id": "d3a84240",
   "metadata": {},
   "outputs": [],
   "source": [
    "X_train, X_test, y_train, y_test = train_test_split(X, y, test_size=0.20, shuffle=True)"
   ]
  },
  {
   "cell_type": "markdown",
   "id": "7cdf805b",
   "metadata": {},
   "source": [
    "# ### 5. Data Preparation"
   ]
  },
  {
   "cell_type": "markdown",
   "id": "07f5ae63",
   "metadata": {},
   "source": [
    "## ### 5.1. Ordinal Encoding"
   ]
  },
  {
   "cell_type": "markdown",
   "id": "6cbb8fb5",
   "metadata": {},
   "source": [
    "## ### 5.2. One Hot Encoding"
   ]
  },
  {
   "cell_type": "markdown",
   "id": "6aeaeb0a",
   "metadata": {},
   "source": [
    "## 5.3. Feature Scaling"
   ]
  },
  {
   "cell_type": "markdown",
   "id": "6bd90e8d",
   "metadata": {},
   "source": [
    "### 5.3.1. Training Set"
   ]
  },
  {
   "cell_type": "code",
   "execution_count": 6,
   "id": "bd4efdd2",
   "metadata": {},
   "outputs": [],
   "source": [
    "scaler = MinMaxScaler()\n",
    "X_train_scaled = scaler.fit_transform(X_train)"
   ]
  },
  {
   "cell_type": "markdown",
   "id": "f370ec47",
   "metadata": {},
   "source": [
    "### 5.3.2. Test Set"
   ]
  },
  {
   "cell_type": "code",
   "execution_count": 7,
   "id": "72df8ec8",
   "metadata": {},
   "outputs": [],
   "source": [
    "X_test_scaled = scaler.transform(X_test)"
   ]
  },
  {
   "cell_type": "markdown",
   "id": "f7298f01",
   "metadata": {},
   "source": [
    "# 6. Model Creation"
   ]
  },
  {
   "cell_type": "markdown",
   "id": "02e695f1",
   "metadata": {},
   "source": [
    "## 6.1. Setting Parameters"
   ]
  },
  {
   "cell_type": "code",
   "execution_count": 8,
   "id": "230b06c5",
   "metadata": {},
   "outputs": [],
   "source": [
    "clf = MLPClassifier(\n",
    "    hidden_layer_sizes=(50, 10, 10),\n",
    "    activation='relu',\n",
    "    learning_rate_init=0.005,\n",
    "    max_iter=1000,\n",
    "    batch_size=X_train_scaled.shape[0],\n",
    "    alpha=0,\n",
    "    solver='sgd',\n",
    "    momentum=0\n",
    ")"
   ]
  },
  {
   "cell_type": "markdown",
   "id": "fcd997d4",
   "metadata": {},
   "source": [
    "## 6.2. Train Model"
   ]
  },
  {
   "cell_type": "code",
   "execution_count": 9,
   "id": "a6a14837",
   "metadata": {},
   "outputs": [
    {
     "data": {
      "text/plain": [
       "MLPClassifier(alpha=0, batch_size=4678, hidden_layer_sizes=(50, 10, 10),\n",
       "              learning_rate_init=0.005, max_iter=1000, momentum=0,\n",
       "              solver='sgd')"
      ]
     },
     "execution_count": 9,
     "metadata": {},
     "output_type": "execute_result"
    }
   ],
   "source": [
    "clf.fit(X_train_scaled, y_train)"
   ]
  },
  {
   "cell_type": "markdown",
   "id": "dfc8e323",
   "metadata": {},
   "source": [
    "## 6.3. Model's Weight & Bias"
   ]
  },
  {
   "cell_type": "code",
   "execution_count": 11,
   "id": "6c495174",
   "metadata": {},
   "outputs": [
    {
     "data": {
      "text/plain": [
       "[array([[-0.01258032,  0.0015296 ,  0.02535598, ..., -0.02525006,\n",
       "          0.0130881 , -0.02543967],\n",
       "        [ 0.00464314,  0.02264359,  0.00207836, ...,  0.03677101,\n",
       "          0.01635918, -0.01210396],\n",
       "        [ 0.00443958,  0.03486432,  0.00668878, ...,  0.02547729,\n",
       "          0.01317233,  0.00572024],\n",
       "        ...,\n",
       "        [ 0.0238785 ,  0.01312817, -0.0360396 , ...,  0.01391381,\n",
       "         -0.03247156,  0.01573742],\n",
       "        [ 0.01122993, -0.01212522, -0.02292769, ...,  0.00503755,\n",
       "          0.02212863, -0.0197083 ],\n",
       "        [ 0.03666748, -0.01803208,  0.01696578, ...,  0.00048578,\n",
       "         -0.03761033, -0.01956473]]),\n",
       " array([[ 0.14447829,  0.2475122 ,  0.21090834,  0.08241981,  0.24481901,\n",
       "          0.14082581,  0.18652912, -0.145426  ,  0.16279993, -0.01224406],\n",
       "        [ 0.28866588, -0.01589233, -0.30256034, -0.24949122,  0.18917335,\n",
       "          0.16353691, -0.33138762,  0.35627305,  0.00499514, -0.20438834],\n",
       "        [-0.23047075, -0.05882002,  0.02042918, -0.18064414,  0.2779917 ,\n",
       "         -0.28091103,  0.01821442,  0.21149701,  0.24804605, -0.08100967],\n",
       "        [-0.02087076,  0.15359496, -0.30242631, -0.0732864 ,  0.29844885,\n",
       "         -0.27641914,  0.21451116, -0.2903583 ,  0.23586296, -0.12492713],\n",
       "        [ 0.15264532, -0.19347064, -0.2552628 ,  0.02152086, -0.09181877,\n",
       "         -0.08065137, -0.28414293,  0.22310618, -0.0107019 , -0.00701025],\n",
       "        [-0.17008558,  0.22270589,  0.26810339, -0.26025889,  0.18354086,\n",
       "          0.05644473, -0.19455068, -0.24994915,  0.19910571,  0.13589252],\n",
       "        [-0.12080722, -0.27600739, -0.19526708, -0.19750298,  0.16747824,\n",
       "          0.24883419, -0.17020416,  0.35643911,  0.1722871 , -0.13096819],\n",
       "        [ 0.17267904, -0.13745782, -0.2540938 , -0.25543327, -0.14969309,\n",
       "          0.07184047,  0.03638964,  0.17308731, -0.05117126, -0.2287172 ],\n",
       "        [ 0.0284279 ,  0.07607546,  0.17725711,  0.07184161, -0.05152406,\n",
       "         -0.07647359,  0.22495174, -0.25170866, -0.31440746, -0.29079937],\n",
       "        [-0.30896583, -0.1250791 ,  0.23054521, -0.26150819,  0.25521908,\n",
       "         -0.30417221,  0.01395296,  0.1993167 , -0.29533574, -0.11890542],\n",
       "        [ 0.23609479, -0.08392037, -0.1049075 ,  0.12947819,  0.13845397,\n",
       "         -0.27688436, -0.06350998,  0.13933745, -0.3101641 ,  0.16391904],\n",
       "        [ 0.08721223,  0.13941121,  0.24112359,  0.14777129, -0.09850236,\n",
       "          0.01519893, -0.08564445, -0.19500317,  0.2266334 , -0.17549565],\n",
       "        [ 0.10391195, -0.25107951,  0.15111472,  0.27039191,  0.11494932,\n",
       "          0.19749232,  0.02096645, -0.09511578, -0.30138302,  0.10596251],\n",
       "        [ 0.26433059, -0.02143583, -0.13401004, -0.14697153,  0.08021745,\n",
       "          0.06538736,  0.04612196, -0.09043366, -0.11257353, -0.15946829],\n",
       "        [ 0.14328065,  0.0554792 , -0.24929612, -0.08273309,  0.21485127,\n",
       "         -0.11083785,  0.28678453, -0.31608575, -0.23702148, -0.16903917],\n",
       "        [-0.15488396, -0.02936605, -0.2977254 , -0.12574491, -0.29193667,\n",
       "         -0.14787055,  0.22333297, -0.01786969,  0.26679606,  0.23235492],\n",
       "        [-0.10072387, -0.08870102,  0.02565012, -0.00646026,  0.19407666,\n",
       "         -0.29202526, -0.17734409, -0.04825729,  0.14691268,  0.01031995],\n",
       "        [ 0.06910584, -0.18081996, -0.25691   ,  0.10855217, -0.06450515,\n",
       "         -0.12574973,  0.32647242,  0.01947021,  0.09856331,  0.01668155],\n",
       "        [-0.21999537,  0.06784387, -0.21468167,  0.26686795,  0.03955778,\n",
       "          0.1134826 ,  0.04476512,  0.17619128, -0.26140642, -0.16380911],\n",
       "        [-0.28571941,  0.04331081, -0.17081341,  0.19285369,  0.24513147,\n",
       "          0.16028638,  0.19247109, -0.30555611,  0.1805187 , -0.28218082],\n",
       "        [-0.19916879,  0.04892175, -0.18073094,  0.11075023, -0.10783318,\n",
       "          0.26717883, -0.26789103,  0.06945026, -0.02627927, -0.05799026],\n",
       "        [ 0.28771145, -0.24062208, -0.14818138, -0.03156439, -0.2563609 ,\n",
       "          0.27605704,  0.17096632,  0.15765348,  0.31046237,  0.22621631],\n",
       "        [ 0.02855641,  0.22346607, -0.1509924 , -0.00657133, -0.01588023,\n",
       "          0.08556651,  0.16015896,  0.20775328,  0.16302555, -0.30287549],\n",
       "        [ 0.17621982, -0.10294644,  0.14029502,  0.30846401,  0.06581876,\n",
       "          0.1776876 ,  0.2422575 , -0.23496881,  0.254984  , -0.24957323],\n",
       "        [ 0.05651673,  0.11947966,  0.16121781,  0.06678761,  0.04717949,\n",
       "         -0.20671823,  0.31609161,  0.07163835, -0.02174442, -0.27101629],\n",
       "        [-0.18603903,  0.17641386,  0.30616941, -0.24496357,  0.1165063 ,\n",
       "          0.0967246 ,  0.19687485, -0.04089522,  0.07329628,  0.24213061],\n",
       "        [ 0.10918121,  0.26062177, -0.16008694,  0.0594915 , -0.0700794 ,\n",
       "         -0.29027363, -0.13520907, -0.31396526,  0.22146777,  0.30851378],\n",
       "        [ 0.30103756,  0.06438125,  0.0546221 , -0.20943887,  0.12426116,\n",
       "          0.12029795,  0.07354087,  0.16997667, -0.15663774,  0.02396363],\n",
       "        [ 0.11033822, -0.16033664, -0.09263681, -0.2621405 ,  0.25196501,\n",
       "          0.1780419 ,  0.01483945,  0.30495198, -0.26971999, -0.17652905],\n",
       "        [ 0.07917347, -0.06221621, -0.02490544,  0.29855954, -0.15530575,\n",
       "         -0.31317935,  0.01418984, -0.30655128,  0.16206453,  0.12955406],\n",
       "        [-0.15588708,  0.04070477,  0.2955889 , -0.14090454, -0.00294833,\n",
       "          0.14565808,  0.15067162,  0.19735314, -0.19637105,  0.02421573],\n",
       "        [-0.16954993,  0.24160714,  0.29910178, -0.0393031 ,  0.28315906,\n",
       "          0.11751453, -0.02361382, -0.18563712,  0.25999009,  0.29995878],\n",
       "        [ 0.02234026, -0.14979793, -0.19686661, -0.22079698, -0.28383163,\n",
       "         -0.19678966,  0.13668893,  0.15554582,  0.21999284, -0.1524208 ],\n",
       "        [-0.25261195, -0.20442921,  0.11043252, -0.07818155,  0.13700027,\n",
       "         -0.23723172,  0.30342277,  0.16436934, -0.30789786,  0.23796175],\n",
       "        [-0.2053736 , -0.30839339,  0.31572547,  0.10170205, -0.22866302,\n",
       "          0.22183206, -0.0569897 ,  0.04727248, -0.27635493,  0.18510552],\n",
       "        [-0.18206675, -0.10123825,  0.04513262, -0.29738611,  0.26080709,\n",
       "         -0.14573009, -0.2086398 , -0.06175604, -0.23297915, -0.21170727],\n",
       "        [-0.06119347,  0.03527611, -0.12276642, -0.20031794,  0.03410579,\n",
       "          0.23198419, -0.02798009,  0.05265822,  0.07835573,  0.28467088],\n",
       "        [-0.03391283, -0.21156822, -0.31372062, -0.2989968 , -0.08219148,\n",
       "          0.14552929, -0.18586932,  0.02756388, -0.0388171 ,  0.31050082],\n",
       "        [ 0.07322407,  0.0519558 ,  0.0200197 ,  0.15047487,  0.2016664 ,\n",
       "         -0.2671722 , -0.35760273,  0.30892225,  0.1000155 ,  0.13402661],\n",
       "        [-0.3040269 , -0.19292134, -0.16366878, -0.07326682, -0.08901766,\n",
       "         -0.06344637, -0.32370895,  0.24949903, -0.18547111,  0.17939476],\n",
       "        [ 0.16796245,  0.19774324, -0.15962321, -0.15336611, -0.01987592,\n",
       "         -0.11725041, -0.03795327,  0.16224955,  0.1373369 , -0.14683639],\n",
       "        [-0.18940641, -0.2728169 ,  0.25723348,  0.07417988, -0.07567554,\n",
       "          0.27009184, -0.16654089,  0.08983422,  0.13507263,  0.19977016],\n",
       "        [ 0.063751  , -0.12767333, -0.21003897, -0.10786477, -0.05247313,\n",
       "          0.0839438 ,  0.33076166, -0.08887391,  0.05947515, -0.20853743],\n",
       "        [-0.11041907, -0.23836577,  0.02873763, -0.01226244,  0.07019984,\n",
       "          0.30460895,  0.06610625, -0.07715382,  0.26338699,  0.2062747 ],\n",
       "        [ 0.12369316, -0.2713408 ,  0.27340145,  0.0304673 ,  0.12284833,\n",
       "          0.19546402,  0.21070546,  0.03762568, -0.28521321,  0.13232619],\n",
       "        [-0.30446007,  0.0433225 ,  0.0106893 ,  0.27212713, -0.24186712,\n",
       "         -0.12607025, -0.21585048,  0.27931751,  0.06198544, -0.26741855],\n",
       "        [ 0.18877848, -0.0082683 ,  0.09317154, -0.13582547,  0.24284713,\n",
       "         -0.04698351, -0.13135259,  0.25414099,  0.29847042, -0.26834064],\n",
       "        [ 0.00424561, -0.14193773, -0.00569287, -0.15831381, -0.26828379,\n",
       "          0.04175017,  0.20914594,  0.24892221, -0.25029575,  0.1450592 ],\n",
       "        [ 0.19682007, -0.21041416,  0.19983345,  0.27287601, -0.26225065,\n",
       "         -0.11394859, -0.17468756, -0.00921882, -0.26463645, -0.2046406 ],\n",
       "        [ 0.29631028,  0.28135348, -0.05201887,  0.31162843, -0.14696774,\n",
       "          0.21751264,  0.06679189, -0.08405987,  0.07249753, -0.14678841]]),\n",
       " array([[ 0.34628203, -0.22737229, -0.43298931, -0.14769759, -0.19090668,\n",
       "         -0.53706441, -0.414118  , -0.41596276,  0.14993809, -0.29019443],\n",
       "        [-0.42707651,  0.14148652,  0.47732696,  0.23273129, -0.39388327,\n",
       "         -0.07573228,  0.51024555, -0.33725291, -0.46342307,  0.44447104],\n",
       "        [-0.40928691,  0.50606655, -0.12969552,  0.24904177, -0.35791748,\n",
       "         -0.52994914,  0.50115905,  0.31125715,  0.06092473, -0.322018  ],\n",
       "        [-0.27677305, -0.00491765,  0.25995183, -0.38834206, -0.05712697,\n",
       "         -0.15068205, -0.44669393,  0.35831991,  0.21470292, -0.44550156],\n",
       "        [-0.40087177,  0.17946608, -0.28243259,  0.03681616,  0.36191085,\n",
       "          0.02749567, -0.31061108, -0.38482821, -0.41945129,  0.50659555],\n",
       "        [-0.08766558,  0.15232061,  0.35368278,  0.37498231, -0.17254232,\n",
       "         -0.40733778, -0.43079114,  0.35748276, -0.50106985,  0.34936861],\n",
       "        [-0.21748385, -0.12516281, -0.13643129, -0.37531843, -0.62794375,\n",
       "          0.50788667, -0.11128744,  0.39840967, -0.261306  ,  0.70162825],\n",
       "        [ 0.19553578,  0.41652844,  0.37704781, -0.52222564,  0.26969296,\n",
       "          0.21494145, -0.16248586, -0.34206508, -0.14337359, -0.40764135],\n",
       "        [ 0.18105877, -0.0284118 , -0.11915092, -0.08454803,  0.47993875,\n",
       "         -0.2291044 , -0.11918361,  0.01286176, -0.36394848,  0.52826929],\n",
       "        [ 0.26067386,  0.24344463, -0.25919137,  0.06693588, -0.45617394,\n",
       "          0.3175182 ,  0.06884635,  0.44380932, -0.01731542,  0.27063265]]),\n",
       " array([[-0.08791596],\n",
       "        [ 0.74439391],\n",
       "        [ 0.70583866],\n",
       "        [-0.52836982],\n",
       "        [ 0.74425771],\n",
       "        [-0.38042228],\n",
       "        [ 0.4292154 ],\n",
       "        [ 0.44250148],\n",
       "        [-0.16362771],\n",
       "        [-0.8853923 ]])]"
      ]
     },
     "execution_count": 11,
     "metadata": {},
     "output_type": "execute_result"
    }
   ],
   "source": [
    "clf.coefs_"
   ]
  },
  {
   "cell_type": "code",
   "execution_count": 12,
   "id": "4a9fbc09",
   "metadata": {},
   "outputs": [
    {
     "data": {
      "text/plain": [
       "[array([ 0.03318414,  0.01684701,  0.00725797,  0.02746325,  0.01449208,\n",
       "        -0.0244472 , -0.02081416,  0.02847213,  0.03088235,  0.01190015,\n",
       "         0.01507965, -0.00895417, -0.02295596, -0.00211237, -0.00918698,\n",
       "        -0.00788492,  0.00656952, -0.02055794, -0.01913331,  0.0306369 ,\n",
       "        -0.00308081,  0.02353503, -0.01097693, -0.02466698, -0.01006266,\n",
       "        -0.03259463, -0.02065033,  0.02733985,  0.03926958,  0.02116509,\n",
       "        -0.00483086, -0.01943261,  0.02399117,  0.02549577, -0.00202338,\n",
       "         0.02362128,  0.00144339, -0.01828022, -0.00227184, -0.01296998,\n",
       "         0.03803776,  0.01253966,  0.02372293, -0.02845573,  0.0225935 ,\n",
       "        -0.01749818,  0.01756677,  0.02338563,  0.01331608, -0.02132861]),\n",
       " array([ 0.18996531, -0.16622106,  0.11349206,  0.22466718, -0.24942221,\n",
       "        -0.19100204, -0.11320493, -0.04219152,  0.22916307,  0.1876951 ]),\n",
       " array([ 0.3821488 , -0.1021078 , -0.2326282 , -0.52165499,  0.47917787,\n",
       "         0.536553  , -0.09744878, -0.0149034 , -0.09895069, -0.40113313]),\n",
       " array([0.28885689])]"
      ]
     },
     "execution_count": 12,
     "metadata": {},
     "output_type": "execute_result"
    }
   ],
   "source": [
    "clf.intercepts_"
   ]
  },
  {
   "cell_type": "markdown",
   "id": "982f5065",
   "metadata": {},
   "source": [
    "# 7. Prediction"
   ]
  },
  {
   "cell_type": "markdown",
   "id": "3371e2e7",
   "metadata": {},
   "source": [
    "## 7.1. Training Set"
   ]
  },
  {
   "cell_type": "code",
   "execution_count": 13,
   "id": "1fcaad0d",
   "metadata": {},
   "outputs": [],
   "source": [
    "y_pred_train = clf.predict(X_train_scaled)"
   ]
  },
  {
   "cell_type": "markdown",
   "id": "95a112f5",
   "metadata": {},
   "source": [
    "## 7.2. Test Set"
   ]
  },
  {
   "cell_type": "code",
   "execution_count": 14,
   "id": "7158701f",
   "metadata": {},
   "outputs": [],
   "source": [
    "y_pred_test = clf.predict(X_test_scaled)"
   ]
  },
  {
   "cell_type": "markdown",
   "id": "72a16acb",
   "metadata": {},
   "source": [
    "# 8. Model Evaluation"
   ]
  },
  {
   "cell_type": "markdown",
   "id": "7f9d943a",
   "metadata": {},
   "source": [
    "## 8.1. Training Set"
   ]
  },
  {
   "cell_type": "markdown",
   "id": "55f96f40",
   "metadata": {},
   "source": [
    "### 8.1.1. Confusion Matrix"
   ]
  },
  {
   "cell_type": "code",
   "execution_count": 15,
   "id": "8eb5f70b",
   "metadata": {},
   "outputs": [
    {
     "data": {
      "text/plain": [
       "<sklearn.metrics._plot.confusion_matrix.ConfusionMatrixDisplay at 0x104371e20>"
      ]
     },
     "execution_count": 15,
     "metadata": {},
     "output_type": "execute_result"
    },
    {
     "data": {
      "image/png": "[encoded data removed]",
      "text/plain": [
       "<Figure size 432x288 with 2 Axes>"
      ]
     },
     "metadata": {
      "needs_background": "light"
     },
     "output_type": "display_data"
    }
   ],
   "source": [
    "plot_confusion_matrix(clf, X_train_scaled, y_train)"
   ]
  },
  {
   "cell_type": "markdown",
   "id": "6fb54b57",
   "metadata": {},
   "source": [
    "### 8.1.2. Scoring"
   ]
  },
  {
   "cell_type": "code",
   "execution_count": 16,
   "id": "527a7b37",
   "metadata": {},
   "outputs": [],
   "source": [
    "report = classification_report(y_train, y_pred_train, output_dict=True)"
   ]
  },
  {
   "cell_type": "code",
   "execution_count": 17,
   "id": "dfa3133a",
   "metadata": {},
   "outputs": [
    {
     "name": "stdout",
     "output_type": "stream",
     "text": [
      "accuracy = 0.9683625480974776\n"
     ]
    }
   ],
   "source": [
    "print('accuracy =', report['accuracy'])"
   ]
  },
  {
   "cell_type": "code",
   "execution_count": 19,
   "id": "f21755cc",
   "metadata": {},
   "outputs": [
    {
     "data": {
      "text/plain": [
       "{'precision': 0.959866220735786,\n",
       " 'recall': 0.9198717948717948,\n",
       " 'f1-score': 0.9394435351882161,\n",
       " 'support': 1248}"
      ]
     },
     "execution_count": 19,
     "metadata": {},
     "output_type": "execute_result"
    }
   ],
   "source": [
    "report['Normal']"
   ]
  },
  {
   "cell_type": "code",
   "execution_count": 20,
   "id": "5e9f9028",
   "metadata": {},
   "outputs": [
    {
     "data": {
      "text/plain": [
       "{'precision': 0.9712808730614589,\n",
       " 'recall': 0.9860058309037901,\n",
       " 'f1-score': 0.978587962962963,\n",
       " 'support': 3430}"
      ]
     },
     "execution_count": 20,
     "metadata": {},
     "output_type": "execute_result"
    }
   ],
   "source": [
    "report['Pheumonia']"
   ]
  },
  {
   "cell_type": "markdown",
   "id": "9533f763",
   "metadata": {},
   "source": [
    "## 8.2. Test Set"
   ]
  },
  {
   "cell_type": "markdown",
   "id": "ef10b301",
   "metadata": {},
   "source": [
    "### 8.2.1. Confusion Matrix"
   ]
  },
  {
   "cell_type": "code",
   "execution_count": 21,
   "id": "aa27890a",
   "metadata": {},
   "outputs": [
    {
     "data": {
      "text/plain": [
       "<sklearn.metrics._plot.confusion_matrix.ConfusionMatrixDisplay at 0x1043719d0>"
      ]
     },
     "execution_count": 21,
     "metadata": {},
     "output_type": "execute_result"
    },
    {
     "data": {
      "image/png": "[encoded data removed]",
      "text/plain": [
       "<Figure size 432x288 with 2 Axes>"
      ]
     },
     "metadata": {
      "needs_background": "light"
     },
     "output_type": "display_data"
    }
   ],
   "source": [
    "plot_confusion_matrix(clf, X_test_scaled, y_test)"
   ]
  },
  {
   "cell_type": "markdown",
   "id": "cefece92",
   "metadata": {},
   "source": [
    "### 8.2.2. Scoring"
   ]
  },
  {
   "cell_type": "code",
   "execution_count": 22,
   "id": "9f72a11f",
   "metadata": {},
   "outputs": [],
   "source": [
    "report = classification_report(y_test, y_pred_test, output_dict=True)"
   ]
  },
  {
   "cell_type": "code",
   "execution_count": 23,
   "id": "d11d9541",
   "metadata": {},
   "outputs": [
    {
     "name": "stdout",
     "output_type": "stream",
     "text": [
      "accuracy = 0.8905982905982905\n"
     ]
    }
   ],
   "source": [
    "print('accuracy =', report['accuracy'])"
   ]
  },
  {
   "cell_type": "code",
   "execution_count": 24,
   "id": "ba315020",
   "metadata": {},
   "outputs": [
    {
     "data": {
      "text/plain": [
       "{'precision': 0.8371335504885994,\n",
       " 'recall': 0.7671641791044777,\n",
       " 'f1-score': 0.8006230529595016,\n",
       " 'support': 335}"
      ]
     },
     "execution_count": 24,
     "metadata": {},
     "output_type": "execute_result"
    }
   ],
   "source": [
    "report['Normal']"
   ]
  },
  {
   "cell_type": "code",
   "execution_count": 25,
   "id": "8b67807a",
   "metadata": {},
   "outputs": [
    {
     "data": {
      "text/plain": [
       "{'precision': 0.9096176129779838,\n",
       " 'recall': 0.9401197604790419,\n",
       " 'f1-score': 0.9246171967020024,\n",
       " 'support': 835}"
      ]
     },
     "execution_count": 25,
     "metadata": {},
     "output_type": "execute_result"
    }
   ],
   "source": [
    "report['Pheumonia']"
   ]
  },
  {
   "cell_type": "markdown",
   "id": "6b1cb541",
   "metadata": {},
   "source": [
    "# 9. Save Model"
   ]
  },
  {
   "cell_type": "code",
   "execution_count": 26,
   "id": "0291e4e9",
   "metadata": {},
   "outputs": [],
   "source": [
    "import pickle"
   ]
  },
  {
   "cell_type": "code",
   "execution_count": 27,
   "id": "2bf44e70",
   "metadata": {},
   "outputs": [],
   "source": [
    "pickle.dump((clf, scaler), open('pheumonia_model.pickle', 'wb'))"
   ]
  },
  {
   "cell_type": "code",
   "execution_count": null,
   "id": "9028adee",
   "metadata": {},
   "outputs": [],
   "source": []
  }
 ],
 "metadata": {
  "kernelspec": {
   "display_name": "Python 3",
   "language": "python",
   "name": "python3"
  },
  "language_info": {
   "codemirror_mode": {
    "name": "ipython",
    "version": 3
   },
   "file_extension": ".py",
   "mimetype": "text/x-python",
   "name": "python",
   "nbconvert_exporter": "python",
   "pygments_lexer": "ipython3",
   "version": "3.8.8"
  }
 },
 "nbformat": 4,
 "nbformat_minor": 5
}
